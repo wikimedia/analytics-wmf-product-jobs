{
 "cells": [
  {
   "cell_type": "code",
   "execution_count": null,
   "metadata": {
    "scrolled": true
   },
   "outputs": [],
   "source": [
    "from pathlib import Path\n",
    "import datetime\n",
    "import os\n",
    "\n",
    "from wmfdata import hive"
   ]
  },
  {
   "cell_type": "markdown",
   "metadata": {},
   "source": [
    "# Parameters\n",
    "\n",
    "The mediawiki_history snapshot for this month must be available."
   ]
  },
  {
   "cell_type": "code",
   "execution_count": null,
   "metadata": {},
   "outputs": [],
   "source": [
    "last_month = datetime.date.today().replace(day=1) - datetime.timedelta(days=1)\n",
    "\n",
    "MEDIAWIKI_HISTORY_SNAPSHOT = last_month.strftime(\"%Y-%m\")\n",
    "\n",
    "metrics_year =  last_month.year\n",
    "metrics_cur_month = last_month.month"
   ]
  },
  {
   "cell_type": "markdown",
   "metadata": {},
   "source": [
    "# Update table"
   ]
  },
  {
   "cell_type": "markdown",
   "metadata": {},
   "source": [
    "## Monthly Pageviews ##"
   ]
  },
  {
   "cell_type": "markdown",
   "metadata": {},
   "source": [
    "Pageviews data comes from wmf.pageview_hourly for spurious IE views from some countries. Corrected data is stored in intermediate hive table mneisler.pageviews_corrected with data stored back to September 2016. \n",
    "\n",
    "List of corrections and timespans that they are applied to:\n",
    "\n",
    "* IEPKIRAF: since May 20, 2018\n",
    "* IE7PKIRAF: January 1-May 19, 2018\n",
    "* IE7PKIRAF & iOS mainpage: Sept 2016-Dec 31, 2017\n"
   ]
  },
  {
   "cell_type": "code",
   "execution_count": null,
   "metadata": {},
   "outputs": [],
   "source": [
    "update_pv = Path(\"supplementary/queries/update_pageviews_corrected.hql\").read_text().format(\n",
    "    metrics_year = metrics_year,\n",
    "    metrics_cur_month = metrics_cur_month\n",
    ")"
   ]
  },
  {
   "cell_type": "code",
   "execution_count": null,
   "metadata": {},
   "outputs": [],
   "source": [
    "hive.run([\"\"\"SET hive.exec.dynamic.partition.mode = 'nonstrict'\"\"\",\n",
    "          update_pv])"
   ]
  },
  {
   "cell_type": "markdown",
   "metadata": {},
   "source": [
    "Update database access:"
   ]
  },
  {
   "cell_type": "code",
   "execution_count": null,
   "metadata": {},
   "outputs": [],
   "source": [
    "os.system(\"hdfs dfs -chmod -R o+r /user/hive/warehouse/wmf_product.db/pageviews_corrected\")"
   ]
  }
 ],
 "metadata": {
  "kernelspec": {
   "display_name": "Python 3 (ipykernel)",
   "language": "python",
   "name": "python3"
  },
  "language_info": {
   "codemirror_mode": {
    "name": "ipython",
    "version": 3
   },
   "file_extension": ".py",
   "mimetype": "text/x-python",
   "name": "python",
   "nbconvert_exporter": "python",
   "pygments_lexer": "ipython3",
   "version": "3.9.7"
  }
 },
 "nbformat": 4,
 "nbformat_minor": 4
}

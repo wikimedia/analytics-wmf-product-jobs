{
 "cells": [
  {
   "cell_type": "code",
   "execution_count": null,
   "id": "4ff5ef0d",
   "metadata": {},
   "outputs": [],
   "source": [
    "from pathlib import Path\n",
    "import datetime\n",
    "import os\n",
    "\n",
    "import pandas as pd\n",
    "from wmfdata import hive"
   ]
  },
  {
   "cell_type": "markdown",
   "id": "37f74ee5",
   "metadata": {},
   "source": [
    "# Parameters"
   ]
  },
  {
   "cell_type": "code",
   "execution_count": null,
   "id": "f2ec0de0",
   "metadata": {},
   "outputs": [],
   "source": [
    "last_month = datetime.date.today().replace(day=1) - datetime.timedelta(days=1)\n",
    "\n",
    "METRICS_MONTH_TEXT = last_month.strftime(\"%Y-%m\")\n",
    "metrics_month = pd.Period(METRICS_MONTH_TEXT)"
   ]
  },
  {
   "cell_type": "markdown",
   "id": "113c9e33",
   "metadata": {},
   "source": [
    "# Update Tables\n",
    "\n",
    "Update tables for Superset editors metric dashboard monthly:"
   ]
  },
  {
   "cell_type": "code",
   "execution_count": null,
   "id": "b15177e4",
   "metadata": {},
   "outputs": [],
   "source": [
    "update_ae = Path(\"supplementary/queries/update_active_editors.hql\").read_text().format(\n",
    "       month = METRICS_MONTH_TEXT\n",
    "    )\n",
    "\n",
    "hive.run(update_ae)"
   ]
  },
  {
   "cell_type": "code",
   "execution_count": null,
   "id": "16d221b2",
   "metadata": {},
   "outputs": [],
   "source": [
    "update_market = Path(\"supplementary/queries/update_global_markets_active_editors.hql\").read_text().format(\n",
    "       month = METRICS_MONTH_TEXT\n",
    "    )\n",
    "\n",
    "hive.run(update_market)"
   ]
  },
  {
   "cell_type": "code",
   "execution_count": null,
   "id": "82f990f1",
   "metadata": {},
   "outputs": [],
   "source": [
    "update_projfamily = Path(\"supplementary/queries/update_projfamily_active_editors.hql\").read_text().format(\n",
    "       month = METRICS_MONTH_TEXT\n",
    "    )\n",
    "\n",
    "hive.run(update_projfamily)"
   ]
  },
  {
   "cell_type": "code",
   "execution_count": null,
   "id": "b9db8656",
   "metadata": {},
   "outputs": [],
   "source": [
    "update_project = Path(\"supplementary/queries/update_project_active_editors.hql\").read_text().format(\n",
    "       month = METRICS_MONTH_TEXT\n",
    "    )\n",
    "\n",
    "hive.run(update_project)"
   ]
  },
  {
   "cell_type": "markdown",
   "id": "b3252eb8-c607-4bbd-b3dc-0e9af7c118a0",
   "metadata": {},
   "source": [
    "Update database access:"
   ]
  },
  {
   "cell_type": "code",
   "execution_count": null,
   "id": "d53cbfa0",
   "metadata": {},
   "outputs": [],
   "source": [
    "os.system(\"hdfs dfs -chmod -R o+r /user/hive/warehouse/wmf_product.db/active_editors\")"
   ]
  }
 ],
 "metadata": {
  "kernelspec": {
   "display_name": "Python 3 (ipykernel)",
   "language": "python",
   "name": "python3"
  },
  "language_info": {
   "codemirror_mode": {
    "name": "ipython",
    "version": 3
   },
   "file_extension": ".py",
   "mimetype": "text/x-python",
   "name": "python",
   "nbconvert_exporter": "python",
   "pygments_lexer": "ipython3",
   "version": "3.9.7"
  }
 },
 "nbformat": 4,
 "nbformat_minor": 5
}

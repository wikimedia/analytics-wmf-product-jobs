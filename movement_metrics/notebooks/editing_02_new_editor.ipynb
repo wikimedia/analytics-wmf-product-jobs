{
 "cells": [
  {
   "cell_type": "code",
   "execution_count": null,
   "metadata": {},
   "outputs": [],
   "source": [
    "from pathlib import Path\n",
    "import datetime\n",
    "import os\n",
    "\n",
    "from wmfdata import hive"
   ]
  },
  {
   "cell_type": "markdown",
   "metadata": {},
   "source": [
    "# Parameters\n",
    "\n",
    "Start included, end excluded.\n",
    "\n",
    "Have to set the end back a couple of months to ensure we only get uncensored data.\n",
    "\n",
    "**To-do**: We take the metric month and look backwards. But this results in censored datA for months under 30 days (February)."
   ]
  },
  {
   "cell_type": "code",
   "execution_count": null,
   "metadata": {},
   "outputs": [],
   "source": [
    "last_month = datetime.date.today().replace(day=1) - datetime.timedelta(days=1)\n",
    "last_two_month = datetime.date.today().replace(day=1) - datetime.timedelta(days= 35)\n",
    "last_three_month = datetime.date.today().replace(day=1) - datetime.timedelta(days= 70)\n",
    "\n",
    "START = last_three_month.strftime(\"%Y-%m\")\n",
    "END = last_two_month.strftime(\"%Y-%m\")\n",
    "MWH_SNAPSHOT = last_month.strftime(\"%Y-%m\") # The latest available mediawiki_history snapshot"
   ]
  },
  {
   "cell_type": "markdown",
   "metadata": {},
   "source": [
    "# Update table"
   ]
  },
  {
   "cell_type": "code",
   "execution_count": null,
   "metadata": {},
   "outputs": [],
   "source": [
    "update_ne = Path(\"supplementary/queries/update_new_editors.hql\").read_text().format(\n",
    "    start = START,\n",
    "    end = END,\n",
    "    snapshot = MWH_SNAPSHOT\n",
    ")"
   ]
  },
  {
   "cell_type": "code",
   "execution_count": null,
   "metadata": {},
   "outputs": [],
   "source": [
    "hive.run(update_ne)"
   ]
  },
  {
   "cell_type": "markdown",
   "metadata": {},
   "source": [
    "Update database access:"
   ]
  },
  {
   "cell_type": "code",
   "execution_count": null,
   "metadata": {},
   "outputs": [],
   "source": [
    "os.system(\"hdfs dfs -chmod -R o+r /user/hive/warehouse/wmf_product.db/new_editors\")"
   ]
  }
 ],
 "metadata": {
  "kernelspec": {
   "display_name": "Python 3 (ipykernel)",
   "language": "python",
   "name": "python3"
  },
  "language_info": {
   "codemirror_mode": {
    "name": "ipython",
    "version": 3
   },
   "file_extension": ".py",
   "mimetype": "text/x-python",
   "name": "python",
   "nbconvert_exporter": "python",
   "pygments_lexer": "ipython3",
   "version": "3.9.7"
  }
 },
 "nbformat": 4,
 "nbformat_minor": 4
}

{
 "cells": [
  {
   "cell_type": "code",
   "execution_count": null,
   "id": "c4600ce9",
   "metadata": {},
   "outputs": [],
   "source": [
    "from pathlib import Path\n",
    "import datetime\n",
    "\n",
    "import pandas as pd\n",
    "from wmfdata import hive\n",
    "import os"
   ]
  },
  {
   "cell_type": "markdown",
   "id": "d1422b78",
   "metadata": {},
   "source": [
    "# Parameters"
   ]
  },
  {
   "cell_type": "code",
   "execution_count": null,
   "id": "62cc4e63",
   "metadata": {},
   "outputs": [],
   "source": [
    "last_month = datetime.date.today().replace(day=1) - datetime.timedelta(days=1)\n",
    "\n",
    "METRICS_MONTH_TEXT = last_month.strftime(\"%Y-%m\")\n",
    "metrics_month = pd.Period(METRICS_MONTH_TEXT)"
   ]
  },
  {
   "cell_type": "markdown",
   "id": "226c4e22",
   "metadata": {},
   "source": [
    "# Update Table"
   ]
  },
  {
   "cell_type": "markdown",
   "id": "9085a3d7",
   "metadata": {},
   "source": [
    "Update the content_interactions table for Superset readers metric dashboard monthly"
   ]
  },
  {
   "cell_type": "code",
   "execution_count": null,
   "id": "f76fea38",
   "metadata": {},
   "outputs": [],
   "source": [
    "update_interactions = Path(\"supplementary/queries/update_content_interactions.hql\").read_text().format(\n",
    "    YEAR = metrics_month.year,\n",
    "    MONTH = metrics_month.month\n",
    ")"
   ]
  },
  {
   "cell_type": "code",
   "execution_count": null,
   "id": "a8b82723",
   "metadata": {},
   "outputs": [],
   "source": [
    "hive.run(update_interactions)"
   ]
  },
  {
   "cell_type": "markdown",
   "id": "df65cf20-20f8-4079-9c12-dd2fd7292d65",
   "metadata": {},
   "source": [
    "Update database access:"
   ]
  },
  {
   "cell_type": "code",
   "execution_count": null,
   "id": "e503d700",
   "metadata": {},
   "outputs": [],
   "source": [
    "os.system(\"hdfs dfs -chmod -R o+r /user/hive/warehouse/wmf_product.db/content_interactions\")"
   ]
  },
  {
   "cell_type": "code",
   "execution_count": null,
   "id": "8f9418e8",
   "metadata": {},
   "outputs": [],
   "source": []
  }
 ],
 "metadata": {
  "kernelspec": {
   "display_name": "Python 3 (ipykernel)",
   "language": "python",
   "name": "python3"
  },
  "language_info": {
   "codemirror_mode": {
    "name": "ipython",
    "version": 3
   },
   "file_extension": ".py",
   "mimetype": "text/x-python",
   "name": "python",
   "nbconvert_exporter": "python",
   "pygments_lexer": "ipython3",
   "version": "3.9.7"
  }
 },
 "nbformat": 4,
 "nbformat_minor": 5
}

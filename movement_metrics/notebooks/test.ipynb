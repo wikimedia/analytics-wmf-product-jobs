{
 "cells": [
  {
   "cell_type": "code",
   "execution_count": 1,
   "id": "1ba76159-3932-4b7c-8081-b701a23bd209",
   "metadata": {},
   "outputs": [],
   "source": [
    "import wmfdata as wmf\n",
    "import tempfile\n",
    "import pandas as pd\n",
    "from datetime import datetime\n",
    "import os"
   ]
  },
  {
   "cell_type": "code",
   "execution_count": 2,
   "id": "888d18d6-65aa-42d2-96d9-8770a90beb88",
   "metadata": {},
   "outputs": [],
   "source": [
    "today = datetime.today()"
   ]
  },
  {
   "cell_type": "code",
   "execution_count": 3,
   "id": "8869bb0c-34ab-49fb-8dd3-143d7c3069d3",
   "metadata": {},
   "outputs": [],
   "source": [
    "temp_fd, temp_path = tempfile.mkstemp(suffix=\".csv\")"
   ]
  },
  {
   "cell_type": "code",
   "execution_count": 4,
   "id": "0dd9fafe-db2a-4fbd-b851-f62a860fb031",
   "metadata": {},
   "outputs": [
    {
     "name": "stdout",
     "output_type": "stream",
     "text": [
      "        wiki_db  year  month  day  hour posix_user\n",
      "0   commonswiki  2021      9   28    16   bearloga\n",
      "1  wikidatawiki  2021      9   28    16   bearloga\n"
     ]
    }
   ],
   "source": [
    "example_data = {\n",
    "    'wiki_db': ['commonswiki', 'wikidatawiki'],\n",
    "    'year': [today.year] * 2,\n",
    "    'month': [today.month] * 2,\n",
    "    'day': [today.day] * 2,\n",
    "    'hour': [today.hour] * 2,\n",
    "    'posix_user': [os.environ[\"USER\"]] * 2\n",
    "}\n",
    "\n",
    "df = pd.DataFrame(example_data)\n",
    "\n",
    "print(df)"
   ]
  },
  {
   "cell_type": "code",
   "execution_count": 5,
   "id": "5d924c78-a9b0-4830-ac08-7103e1f8ca98",
   "metadata": {},
   "outputs": [],
   "source": [
    "df.to_csv(temp_path, index=False)"
   ]
  },
  {
   "cell_type": "code",
   "execution_count": 6,
   "id": "7c2fea87-4e77-4446-b3b1-5b654174df11",
   "metadata": {},
   "outputs": [],
   "source": [
    "wmf.hive.load_csv(\n",
    "    temp_path,\n",
    "    field_spec=\"\"\"\n",
    "        wiki_db string, \n",
    "        year int, \n",
    "        month int, \n",
    "        day int,\n",
    "        hour int,\n",
    "        posix_user string\n",
    "    \"\"\",\n",
    "    db_name=\"wmf_product\",\n",
    "    table_name=\"test\"\n",
    ")"
   ]
  },
  {
   "cell_type": "code",
   "execution_count": null,
   "id": "f70609ee-6b95-4111-81d0-de379cfdf8b9",
   "metadata": {},
   "outputs": [],
   "source": []
  }
 ],
 "metadata": {
  "kernelspec": {
   "display_name": "Python 3",
   "language": "python",
   "name": "python3"
  },
  "language_info": {
   "codemirror_mode": {
    "name": "ipython",
    "version": 3
   },
   "file_extension": ".py",
   "mimetype": "text/x-python",
   "name": "python",
   "nbconvert_exporter": "python",
   "pygments_lexer": "ipython3",
   "version": "3.7.10"
  }
 },
 "nbformat": 4,
 "nbformat_minor": 5
}

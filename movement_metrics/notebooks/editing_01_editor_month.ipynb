{
 "cells": [
  {
   "cell_type": "code",
   "execution_count": null,
   "metadata": {
    "scrolled": true
   },
   "outputs": [],
   "source": [
    "from pathlib import Path\n",
    "import datetime\n",
    "import os\n",
    "\n",
    "import pandas as pd\n",
    "from wmfdata import hive"
   ]
  },
  {
   "cell_type": "markdown",
   "metadata": {},
   "source": [
    "# Parameters\n",
    "\n",
    "The mediawiki_history snapshot for this month must be available."
   ]
  },
  {
   "cell_type": "code",
   "execution_count": null,
   "metadata": {},
   "outputs": [],
   "source": [
    "last_month = datetime.date.today().replace(day = 1) - datetime.timedelta(days = 1)\n",
    "first_day_month = last_month.replace(day = 1)\n",
    "\n",
    "METRICS_MONTH_TEXT = last_month.strftime(\"%Y-%m\")\n",
    "MEDIAWIKI_HISTORY_SNAPSHOT = last_month.strftime(\"%Y-%m\")\n",
    "\n",
    "metrics_month = pd.Period(METRICS_MONTH_TEXT)\n",
    "insert_start = str(metrics_month)\n",
    "insert_end = str(metrics_month + 1)"
   ]
  },
  {
   "cell_type": "markdown",
   "metadata": {},
   "source": [
    "# Update table"
   ]
  },
  {
   "cell_type": "code",
   "execution_count": null,
   "metadata": {},
   "outputs": [],
   "source": [
    "update_ed = Path(\"supplementary/queries/update_editor_month.hql\").read_text().format(\n",
    "    start = insert_start,\n",
    "    end = insert_end,\n",
    "    mwh_snapshot = MEDIAWIKI_HISTORY_SNAPSHOT\n",
    ")"
   ]
  },
  {
   "cell_type": "code",
   "execution_count": null,
   "metadata": {
    "tags": []
   },
   "outputs": [],
   "source": [
    "hive.run(update_ed)"
   ]
  },
  {
   "cell_type": "markdown",
   "metadata": {},
   "source": [
    "Update database access:"
   ]
  },
  {
   "cell_type": "code",
   "execution_count": null,
   "metadata": {},
   "outputs": [],
   "source": [
    "os.system(\"hdfs dfs -chmod -R o+r /user/hive/warehouse/wmf_product.db/editor_month\")"
   ]
  }
 ],
 "metadata": {
  "kernelspec": {
   "display_name": "Python 3 (ipykernel)",
   "language": "python",
   "name": "python3"
  },
  "language_info": {
   "codemirror_mode": {
    "name": "ipython",
    "version": 3
   },
   "file_extension": ".py",
   "mimetype": "text/x-python",
   "name": "python",
   "nbconvert_exporter": "python",
   "pygments_lexer": "ipython3",
   "version": "3.9.7"
  }
 },
 "nbformat": 4,
 "nbformat_minor": 4
}
